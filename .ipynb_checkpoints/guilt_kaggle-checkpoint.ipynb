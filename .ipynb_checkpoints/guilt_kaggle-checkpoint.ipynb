{
 "cells": [
  {
   "cell_type": "code",
   "execution_count": 1,
   "metadata": {},
   "outputs": [],
   "source": [
    "import pandas as pd\n",
    "import numpy as np\n",
    "import matplotlib.pyplot as plt\n",
    "%matplotlib inline\n",
    "from sklearn.utils import shuffle"
   ]
  },
  {
   "cell_type": "code",
   "execution_count": 23,
   "metadata": {
    "scrolled": true
   },
   "outputs": [],
   "source": [
    "data = pd.read_csv('./data/train.csv')\n",
    "# data = shuffle(data, random_state = 0)\n",
    "data.head(10)\n",
    "status = data[\"Violation Status\"].unique()\n"
   ]
  },
  {
   "cell_type": "code",
   "execution_count": 27,
   "metadata": {},
   "outputs": [
    {
     "name": "stdout",
     "output_type": "stream",
     "text": [
      "len(status) =  14\n",
      "['HEARING HELD-GUILTY' 'HEARING HELD-GUILTY REDUCTION'\n",
      " 'HEARING HELD-NOT GUILTY' 'HEARING PENDING' 'ADMIN CLAIM GRANTED'\n",
      " 'APPEAL REVERSED' 'HEARING ADJOURNMENT' 'APPEAL AFFIRMED'\n",
      " 'ADMIN CLAIM DENIED' 'ADMIN REDUCTION' 'HEARING HELD-REINSTATEMENT'\n",
      " 'APPEAL ABANDONED' 'APPEAL MODIFIED' 'HEARING WAIVED']\n"
     ]
    }
   ],
   "source": [
    "print(\"len(status) = \", len(status))\n",
    "print(status)\n"
   ]
  },
  {
   "cell_type": "code",
   "execution_count": 26,
   "metadata": {},
   "outputs": [
    {
     "data": {
      "text/plain": [
       "5"
      ]
     },
     "execution_count": 26,
     "metadata": {},
     "output_type": "execute_result"
    }
   ],
   "source": [
    "a = np.array([1,2,2,3,4,5])\n",
    "b = set(a)\n",
    "len(b)"
   ]
  },
  {
   "cell_type": "code",
   "execution_count": null,
   "metadata": {},
   "outputs": [],
   "source": []
  }
 ],
 "metadata": {
  "kernelspec": {
   "display_name": "tensorflow",
   "language": "python",
   "name": "tensorflow"
  },
  "language_info": {
   "codemirror_mode": {
    "name": "ipython",
    "version": 3
   },
   "file_extension": ".py",
   "mimetype": "text/x-python",
   "name": "python",
   "nbconvert_exporter": "python",
   "pygments_lexer": "ipython3",
   "version": "3.6.6"
  }
 },
 "nbformat": 4,
 "nbformat_minor": 2
}
